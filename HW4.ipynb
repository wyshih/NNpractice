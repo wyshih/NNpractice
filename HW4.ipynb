{
 "cells": [
  {
   "cell_type": "code",
   "execution_count": 1,
   "id": "3ff21a1f",
   "metadata": {
    "_cell_guid": "b1076dfc-b9ad-4769-8c92-a6c4dae69d19",
    "_uuid": "8f2839f25d086af736a60e9eeb907d3b93b6e0e5",
    "execution": {
     "iopub.execute_input": "2022-10-07T02:49:41.056688Z",
     "iopub.status.busy": "2022-10-07T02:49:41.056161Z",
     "iopub.status.idle": "2022-10-07T02:49:43.985512Z",
     "shell.execute_reply": "2022-10-07T02:49:43.984359Z"
    },
    "papermill": {
     "duration": 2.937471,
     "end_time": "2022-10-07T02:49:43.988214",
     "exception": false,
     "start_time": "2022-10-07T02:49:41.050743",
     "status": "completed"
    },
    "tags": []
   },
   "outputs": [],
   "source": [
    "# This Python 3 environment comes with many helpful analytics libraries installed\n",
    "# It is defined by the kaggle/python Docker image: https://github.com/kaggle/docker-python\n",
    "# For example, here's several helpful packages to load\n",
    "\n",
    "import torch as T\n",
    "from tqdm import tqdm\n",
    "from tqdm import trange\n",
    "import pandas as pd\n",
    "from sklearn.metrics import mean_squared_error\n",
    "from sklearn.linear_model import Ridge\n",
    "from sklearn.ensemble import RandomForestRegressor\n",
    "from torch.utils.data import Dataset, DataLoader, random_split\n",
    "from sklearn.model_selection import train_test_split\n",
    "import torch.nn as nn\n",
    "import re\n",
    "import numpy as np\n",
    "import os\n",
    "import json\n",
    "import random\n",
    "import gc\n",
    "from torch.nn.utils.rnn import pad_sequence\n",
    "from torch.utils.tensorboard import SummaryWriter\n",
    "'''for dirname, _, filenames in os.walk('/kaggle/input'):\n",
    "    for filename in filenames:\n",
    "        print(os.path.join(dirname, filename))'''\n",
    "\n",
    "filepath = '/kaggle/input/ml2022spring-hw4/Dataset'\n",
    "segment_len = 512\n",
    "train_ratio = 0.8\n",
    "batch_size = 512\n",
    "# You can write up to 20GB to the current directory (/kaggle/working/) that gets preserved as output when you create a version using \"Save & Run All\" \n",
    "# You can also write temporary files to /kaggle/temp/, but they won't be saved outside of the current session"
   ]
  },
  {
   "cell_type": "code",
   "execution_count": 2,
   "id": "7d700fd5",
   "metadata": {
    "execution": {
     "iopub.execute_input": "2022-10-07T02:49:43.995700Z",
     "iopub.status.busy": "2022-10-07T02:49:43.995181Z",
     "iopub.status.idle": "2022-10-07T02:49:44.008838Z",
     "shell.execute_reply": "2022-10-07T02:49:44.007732Z"
    },
    "papermill": {
     "duration": 0.01952,
     "end_time": "2022-10-07T02:49:44.010980",
     "exception": false,
     "start_time": "2022-10-07T02:49:43.991460",
     "status": "completed"
    },
    "tags": []
   },
   "outputs": [],
   "source": [
    "class voxData(Dataset):\n",
    "    def __init__(self, path, train=True, seg_len=128):\n",
    "        with open(os.path.join(path, 'mapping.json'), 'r') as a:\n",
    "            self.mapping = json.load(a)[\"speaker2id\"]\n",
    "        self.data = []\n",
    "        self.seg_len = seg_len\n",
    "        self.path = path\n",
    "        if train == True:\n",
    "            self.train = True\n",
    "            with open(os.path.join(path, 'metadata.json'), 'r') as a:\n",
    "                self.meta = json.load(a)['speakers']\n",
    "            for i in self.meta.keys():\n",
    "                ids = self.mapping[i]\n",
    "                self.data.extend([[j['feature_path'], ids] for j in self.meta[i]])\n",
    "\n",
    "        else:\n",
    "            self.train = False\n",
    "            with open(os.path.join(path, 'testdata.json'), 'r') as a:\n",
    "                self.meta = json.load(a)['utterances']\n",
    "            for i in self.meta['utterances']:\n",
    "                self.data.append([i['feature_path']])\n",
    "    def __len__(self):\n",
    "        return len(self.data)\n",
    "    def __getitem__(self, idx):\n",
    "        if self.train:\n",
    "            file, spk = self.data[idx]\n",
    "            spk = T.FloatTensor([spk]).long()\n",
    "        else:\n",
    "            file = self.data[idx]\n",
    "        pt = T.load(os.path.join(self.path, file))\n",
    "        if pt.shape[0] >= self.seg_len:\n",
    "            start = random.randint(0, pt.shape[0]-self.seg_len)\n",
    "            if self.train:\n",
    "                return pt[start:start+self.seg_len], spk\n",
    "            else:\n",
    "                return pt[start:start+self.seg_len]\n",
    "        else:\n",
    "            if self.train:\n",
    "                return pt, spk\n",
    "            else:\n",
    "                return pt\n",
    "        return pt\n",
    "    def num_spks(self):\n",
    "        return len(self.meta.keys())"
   ]
  },
  {
   "cell_type": "code",
   "execution_count": 3,
   "id": "89ff0e1d",
   "metadata": {
    "execution": {
     "iopub.execute_input": "2022-10-07T02:49:44.017826Z",
     "iopub.status.busy": "2022-10-07T02:49:44.017498Z",
     "iopub.status.idle": "2022-10-07T02:49:44.024903Z",
     "shell.execute_reply": "2022-10-07T02:49:44.023913Z"
    },
    "papermill": {
     "duration": 0.013483,
     "end_time": "2022-10-07T02:49:44.027174",
     "exception": false,
     "start_time": "2022-10-07T02:49:44.013691",
     "status": "completed"
    },
    "tags": []
   },
   "outputs": [],
   "source": [
    "class Vxclf(nn.Module):\n",
    "    def __init__(self, firstlayer = 40, numspks = 600):\n",
    "        super().__init__()\n",
    "        self.prenet = nn.Linear(40, firstlayer)\n",
    "        self.encoder_layer = nn.TransformerEncoderLayer(\n",
    "            d_model=firstlayer, dim_feedforward=256, nhead=1, batch_first=True\n",
    "        )\n",
    "        self.encoder = nn.TransformerEncoder(self.encoder_layer, num_layers=3)\n",
    "        self.outnet = nn.Sequential(\n",
    "            nn.Linear(firstlayer, firstlayer),\n",
    "            nn.ReLU(),\n",
    "            nn.Linear(firstlayer, numspks)\n",
    "        )\n",
    "    def forward(self, x):\n",
    "        out = self.prenet(x)\n",
    "        #print('prenet output', out.shape)\n",
    "        out = self.encoder_layer(out)\n",
    "        #print('encoder output', out.shape)\n",
    "        #out = out.transpose(0, 1)\n",
    "        #print('transpose output', out.shape)\n",
    "        # mean pooling\n",
    "        stats = out.mean(dim=1)\n",
    "        #print('mean output', stats.shape)\n",
    "        # out: (batch, n_spks)\n",
    "        out = self.outnet(stats)\n",
    "        #print('outnet output', out.shape)\n",
    "        return out"
   ]
  },
  {
   "cell_type": "code",
   "execution_count": 4,
   "id": "29654c31",
   "metadata": {
    "execution": {
     "iopub.execute_input": "2022-10-07T02:49:44.033726Z",
     "iopub.status.busy": "2022-10-07T02:49:44.033461Z",
     "iopub.status.idle": "2022-10-07T02:50:10.736629Z",
     "shell.execute_reply": "2022-10-07T02:50:10.735642Z"
    },
    "papermill": {
     "duration": 26.709164,
     "end_time": "2022-10-07T02:50:10.739059",
     "exception": false,
     "start_time": "2022-10-07T02:49:44.029895",
     "status": "completed"
    },
    "tags": []
   },
   "outputs": [],
   "source": [
    "vxd = voxData(filepath, seg_len=segment_len)\n",
    "#print(a.meta)\n",
    "nspks = vxd.num_spks()\n",
    "train_len = int(train_ratio*len(vxd))\n",
    "\n",
    "traindata, validdata = random_split(vxd, [train_len, len(vxd)-train_len])\n",
    "chklabel = set()\n",
    "for _, j in traindata:\n",
    "    chklabel.add(j.item())\n",
    "    if len(chklabel) == nspks:\n",
    "        break\n",
    "assert(len(chklabel)==nspks),\"resample training data\"\n",
    "\n",
    "\n"
   ]
  },
  {
   "cell_type": "code",
   "execution_count": 5,
   "id": "c4314243",
   "metadata": {
    "execution": {
     "iopub.execute_input": "2022-10-07T02:50:10.746659Z",
     "iopub.status.busy": "2022-10-07T02:50:10.745826Z",
     "iopub.status.idle": "2022-10-07T02:50:10.751817Z",
     "shell.execute_reply": "2022-10-07T02:50:10.750949Z"
    },
    "papermill": {
     "duration": 0.011974,
     "end_time": "2022-10-07T02:50:10.753980",
     "exception": false,
     "start_time": "2022-10-07T02:50:10.742006",
     "status": "completed"
    },
    "tags": []
   },
   "outputs": [],
   "source": [
    "def batch_fn(batch):\n",
    "    data, label = zip(*batch)\n",
    "    data = pad_sequence(data, batch_first=True, padding_value=1e-20)\n",
    "    return data, T.FloatTensor(label).long()\n",
    "trainloader = DataLoader(traindata, batch_size=batch_size, shuffle=True, \n",
    "                pin_memory=True, collate_fn=batch_fn)\n",
    "valdloader = DataLoader(validdata, batch_size=batch_size,\n",
    "                pin_memory=True, collate_fn=batch_fn)"
   ]
  },
  {
   "cell_type": "code",
   "execution_count": 6,
   "id": "15cda7ae",
   "metadata": {
    "execution": {
     "iopub.execute_input": "2022-10-07T02:50:10.760590Z",
     "iopub.status.busy": "2022-10-07T02:50:10.760279Z",
     "iopub.status.idle": "2022-10-07T03:09:10.192536Z",
     "shell.execute_reply": "2022-10-07T03:09:10.191547Z"
    },
    "papermill": {
     "duration": 1139.443881,
     "end_time": "2022-10-07T03:09:10.200553",
     "exception": false,
     "start_time": "2022-10-07T02:50:10.756672",
     "status": "completed"
    },
    "tags": []
   },
   "outputs": [
    {
     "name": "stderr",
     "output_type": "stream",
     "text": [
      "  7%|▋         | 1/15 [06:42<1:33:58, 402.72s/it]"
     ]
    },
    {
     "name": "stdout",
     "output_type": "stream",
     "text": [
      "Average validate accuracy 0.04613742236371921\n"
     ]
    },
    {
     "name": "stderr",
     "output_type": "stream",
     "text": [
      " 13%|█▎        | 2/15 [07:34<42:29, 196.14s/it]  "
     ]
    },
    {
     "name": "stdout",
     "output_type": "stream",
     "text": [
      "Average validate accuracy 0.15501504294250323\n"
     ]
    },
    {
     "name": "stderr",
     "output_type": "stream",
     "text": [
      " 20%|██        | 3/15 [08:25<25:58, 129.88s/it]"
     ]
    },
    {
     "name": "stdout",
     "output_type": "stream",
     "text": [
      "Average validate accuracy 0.23585258165131445\n"
     ]
    },
    {
     "name": "stderr",
     "output_type": "stream",
     "text": [
      " 27%|██▋       | 4/15 [09:16<18:08, 98.92s/it] "
     ]
    },
    {
     "name": "stdout",
     "output_type": "stream",
     "text": [
      "Average validate accuracy 0.28976611080376996\n"
     ]
    },
    {
     "name": "stderr",
     "output_type": "stream",
     "text": [
      " 33%|███▎      | 5/15 [10:08<13:39, 81.90s/it]"
     ]
    },
    {
     "name": "stdout",
     "output_type": "stream",
     "text": [
      "Average validate accuracy 0.34043090110239776\n"
     ]
    },
    {
     "name": "stderr",
     "output_type": "stream",
     "text": [
      " 40%|████      | 6/15 [11:00<10:46, 71.87s/it]"
     ]
    },
    {
     "name": "stdout",
     "output_type": "stream",
     "text": [
      "Average validate accuracy 0.3882302991721941\n"
     ]
    },
    {
     "name": "stderr",
     "output_type": "stream",
     "text": [
      " 47%|████▋     | 7/15 [11:53<08:45, 65.70s/it]"
     ]
    },
    {
     "name": "stdout",
     "output_type": "stream",
     "text": [
      "Average validate accuracy 0.4183229816996533\n"
     ]
    },
    {
     "name": "stderr",
     "output_type": "stream",
     "text": [
      " 53%|█████▎    | 8/15 [12:46<07:10, 61.55s/it]"
     ]
    },
    {
     "name": "stdout",
     "output_type": "stream",
     "text": [
      "Average validate accuracy 0.43372476748798205\n"
     ]
    },
    {
     "name": "stderr",
     "output_type": "stream",
     "text": [
      " 60%|██████    | 9/15 [13:39<05:53, 58.93s/it]"
     ]
    },
    {
     "name": "stdout",
     "output_type": "stream",
     "text": [
      "Average validate accuracy 0.4628421003403871\n"
     ]
    },
    {
     "name": "stderr",
     "output_type": "stream",
     "text": [
      " 67%|██████▋   | 10/15 [14:32<04:45, 57.12s/it]"
     ]
    },
    {
     "name": "stdout",
     "output_type": "stream",
     "text": [
      "Average validate accuracy 0.4801654699056045\n"
     ]
    },
    {
     "name": "stderr",
     "output_type": "stream",
     "text": [
      " 73%|███████▎  | 11/15 [15:24<03:42, 55.58s/it]"
     ]
    },
    {
     "name": "stdout",
     "output_type": "stream",
     "text": [
      "Average validate accuracy 0.5037994954897009\n"
     ]
    },
    {
     "name": "stderr",
     "output_type": "stream",
     "text": [
      " 80%|████████  | 12/15 [16:17<02:44, 54.83s/it]"
     ]
    },
    {
     "name": "stdout",
     "output_type": "stream",
     "text": [
      "Average validate accuracy 0.5245511454084645\n"
     ]
    },
    {
     "name": "stderr",
     "output_type": "stream",
     "text": [
      " 87%|████████▋ | 13/15 [17:10<01:48, 54.27s/it]"
     ]
    },
    {
     "name": "stdout",
     "output_type": "stream",
     "text": [
      "Average validate accuracy 0.5352144798506862\n"
     ]
    },
    {
     "name": "stderr",
     "output_type": "stream",
     "text": [
      " 93%|█████████▎| 14/15 [18:03<00:53, 53.78s/it]"
     ]
    },
    {
     "name": "stdout",
     "output_type": "stream",
     "text": [
      "Average validate accuracy 0.5486315994159036\n"
     ]
    },
    {
     "name": "stderr",
     "output_type": "stream",
     "text": [
      "100%|██████████| 15/15 [18:56<00:00, 75.76s/it]"
     ]
    },
    {
     "name": "stdout",
     "output_type": "stream",
     "text": [
      "Average validate accuracy 0.5615440607070923\n"
     ]
    },
    {
     "name": "stderr",
     "output_type": "stream",
     "text": [
      "\n"
     ]
    }
   ],
   "source": [
    "device = T.device(\"cuda\" if T.cuda.is_available() else \"cpu\")\n",
    "clf = Vxclf(firstlayer=100).to(device)\n",
    "optimizer = T.optim.AdamW(clf.parameters(), lr=1e-3)\n",
    "criterion = nn.CrossEntropyLoss()\n",
    "for num in trange(15):\n",
    "    clf.train()\n",
    "    for x, y in trainloader:\n",
    "        x = x.to(device)\n",
    "        y = y.to(device)\n",
    "        optimizer.zero_grad()\n",
    "        temp = clf(x)\n",
    "        \n",
    "        loss = criterion(temp, y.long().squeeze())\n",
    "        out = temp.argmax(1)\n",
    "        accuracy = T.mean((out == y).float())\n",
    "        loss.backward()\n",
    "        optimizer.step()\n",
    "        #print(accuracy)\n",
    "    vaccuracy = []\n",
    "    clf.eval()\n",
    "    for m, n in valdloader:\n",
    "        m = m.to(device)\n",
    "        n = n.to(device)\n",
    "        with T.no_grad():\n",
    "            temp = clf(m)\n",
    "            out = temp.argmax(1)\n",
    "            vaccuracy.append(T.mean((out == n).float()).to('cpu').item())\n",
    "    print('Average validate accuracy', np.mean(vaccuracy))"
   ]
  },
  {
   "cell_type": "code",
   "execution_count": 7,
   "id": "81717e8e",
   "metadata": {
    "execution": {
     "iopub.execute_input": "2022-10-07T03:09:10.211809Z",
     "iopub.status.busy": "2022-10-07T03:09:10.211451Z",
     "iopub.status.idle": "2022-10-07T03:09:10.220650Z",
     "shell.execute_reply": "2022-10-07T03:09:10.219608Z"
    },
    "papermill": {
     "duration": 0.016896,
     "end_time": "2022-10-07T03:09:10.222701",
     "exception": false,
     "start_time": "2022-10-07T03:09:10.205805",
     "status": "completed"
    },
    "tags": []
   },
   "outputs": [
    {
     "data": {
      "text/plain": [
       "[0.578125,\n",
       " 0.58984375,\n",
       " 0.564453125,\n",
       " 0.544921875,\n",
       " 0.556640625,\n",
       " 0.564453125,\n",
       " 0.59375,\n",
       " 0.529296875,\n",
       " 0.580078125,\n",
       " 0.5625,\n",
       " 0.587890625,\n",
       " 0.56640625,\n",
       " 0.5546875,\n",
       " 0.509765625,\n",
       " 0.60546875,\n",
       " 0.5859375,\n",
       " 0.513671875,\n",
       " 0.591796875,\n",
       " 0.580078125,\n",
       " 0.5859375,\n",
       " 0.560546875,\n",
       " 0.56640625,\n",
       " 0.44285714626312256]"
      ]
     },
     "execution_count": 7,
     "metadata": {},
     "output_type": "execute_result"
    }
   ],
   "source": [
    "vaccuracy "
   ]
  },
  {
   "cell_type": "code",
   "execution_count": null,
   "id": "62295dd3",
   "metadata": {
    "execution": {
     "iopub.execute_input": "2022-10-05T07:15:56.881391Z",
     "iopub.status.busy": "2022-10-05T07:15:56.880487Z",
     "iopub.status.idle": "2022-10-05T07:15:56.923612Z",
     "shell.execute_reply": "2022-10-05T07:15:56.922577Z",
     "shell.execute_reply.started": "2022-10-05T07:15:56.881325Z"
    },
    "papermill": {
     "duration": 0.004354,
     "end_time": "2022-10-07T03:09:10.231608",
     "exception": false,
     "start_time": "2022-10-07T03:09:10.227254",
     "status": "completed"
    },
    "tags": []
   },
   "outputs": [],
   "source": []
  },
  {
   "cell_type": "code",
   "execution_count": 8,
   "id": "ef6a1b99",
   "metadata": {
    "execution": {
     "iopub.execute_input": "2022-10-07T03:09:10.241866Z",
     "iopub.status.busy": "2022-10-07T03:09:10.241531Z",
     "iopub.status.idle": "2022-10-07T03:09:10.247817Z",
     "shell.execute_reply": "2022-10-07T03:09:10.246837Z"
    },
    "papermill": {
     "duration": 0.013963,
     "end_time": "2022-10-07T03:09:10.249904",
     "exception": false,
     "start_time": "2022-10-07T03:09:10.235941",
     "status": "completed"
    },
    "tags": []
   },
   "outputs": [
    {
     "data": {
      "text/plain": [
       "'/kaggle/working'"
      ]
     },
     "execution_count": 8,
     "metadata": {},
     "output_type": "execute_result"
    }
   ],
   "source": [
    "pwd"
   ]
  },
  {
   "cell_type": "code",
   "execution_count": null,
   "id": "fbdcf759",
   "metadata": {
    "papermill": {
     "duration": 0.004279,
     "end_time": "2022-10-07T03:09:10.258680",
     "exception": false,
     "start_time": "2022-10-07T03:09:10.254401",
     "status": "completed"
    },
    "tags": []
   },
   "outputs": [],
   "source": []
  }
 ],
 "metadata": {
  "kernelspec": {
   "display_name": "Python 3",
   "language": "python",
   "name": "python3"
  },
  "language_info": {
   "codemirror_mode": {
    "name": "ipython",
    "version": 3
   },
   "file_extension": ".py",
   "mimetype": "text/x-python",
   "name": "python",
   "nbconvert_exporter": "python",
   "pygments_lexer": "ipython3",
   "version": "3.7.12"
  },
  "papermill": {
   "default_parameters": {},
   "duration": 1178.721686,
   "end_time": "2022-10-07T03:09:11.487166",
   "environment_variables": {},
   "exception": null,
   "input_path": "__notebook__.ipynb",
   "output_path": "__notebook__.ipynb",
   "parameters": {},
   "start_time": "2022-10-07T02:49:32.765480",
   "version": "2.3.4"
  }
 },
 "nbformat": 4,
 "nbformat_minor": 5
}
